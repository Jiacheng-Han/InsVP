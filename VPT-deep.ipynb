{
 "cells": [
  {
   "cell_type": "code",
   "execution_count": 4,
   "id": "6a0a4208",
   "metadata": {},
   "outputs": [],
   "source": [
    "import torch\n",
    "import torch.nn as nn\n",
    "\n",
    "from timm.models.vision_transformer import VisionTransformer, PatchEmbed\n",
    "import torch.optim as optim\n",
    "from torch.utils.data import DataLoader, Dataset\n",
    "from torchvision import transforms\n",
    "from PIL import Image\n",
    "import os\n",
    "\n",
    "# 确保 VPT 类已定义\n",
    "class VPT(VisionTransformer):\n",
    "    def __init__(self, image_size=224, patch_size=16, in_ch=3, num_classes=120, embed_dim=768,\n",
    "                 depth=12, mlp_ratio=4., qkv_bias=True, drop_rate=0., attn_drop_rate=0., drop_path_rate=0.,\n",
    "                 embed_layer=PatchEmbed, norm_layer=None, act_layer=None, prompt_num=100, state_dict=None, num_heads=12):\n",
    "\n",
    "        super().__init__(img_size=image_size, patch_size=patch_size, in_chans=in_ch, num_classes=num_classes,\n",
    "                         embed_dim=embed_dim, depth=depth, num_heads=num_heads, mlp_ratio=mlp_ratio,\n",
    "                         qkv_bias=qkv_bias, drop_rate=drop_rate, attn_drop_rate=attn_drop_rate,\n",
    "                         drop_path_rate=drop_path_rate, embed_layer=embed_layer,\n",
    "                         norm_layer=norm_layer, act_layer=act_layer)\n",
    "        \n",
    "        self.prompt_num = prompt_num\n",
    "        self.depth = depth\n",
    "        self.prompt = nn.Parameter(torch.zeros(self.depth, self.prompt_num, embed_dim))\n",
    "        self.head = nn.Linear(self.embed_dim, self.num_classes)\n",
    "        if state_dict is not None:\n",
    "            self.load_state_dict(state_dict, strict=False)  \n",
    "\n",
    "    def Freeze(self):\n",
    "        for param in self.parameters():\n",
    "            param.requires_grad = False\n",
    "        self.prompt.requires_grad = True\n",
    "        for param in self.head.parameters():\n",
    "            param.requires_grad = True\n",
    "\n",
    "    def forward(self, x):\n",
    "        x = self.patch_embed(x)\n",
    "        cls_token = self.cls_token.expand(x.shape[0], -1, -1)\n",
    "        x = torch.cat((cls_token, x), dim=1)\n",
    "        x = self.pos_drop(x + self.pos_embed)\n",
    "        \n",
    "        for i in range(self.depth):\n",
    "            x = torch.cat((x, self.prompt[i].unsqueeze(0).expand(x.shape[0], -1, -1)), dim=1)\n",
    "            num_tokens = x.shape[1]\n",
    "            x = self.blocks[i](x)\n",
    "#             print(x.shape)\n",
    "            x = x[:, :num_tokens - self.prompt_num]\n",
    "#             print(x.shape)\n",
    "        \n",
    "        x = self.blocks(x)\n",
    "        x = self.norm(x)\n",
    "        x = self.fc_norm(x[:, 0, :])\n",
    "        x = self.head(x)\n",
    "        return x\n",
    "\n",
    "# 加载预训练模型参数\n",
    "device = torch.device(\"cuda\" if torch.cuda.is_available() else \"cpu\")\n",
    "pretrained_path = \"pytorch_model.bin\"\n",
    "state_dict = torch.load(pretrained_path, map_location=device)\n",
    "model = VPT(num_classes=120, state_dict = state_dict).to(device)\n",
    "model.Freeze()\n",
    "criterion = nn.CrossEntropyLoss()\n",
    "optimizer = optim.Adam(filter(lambda p: p.requires_grad, model.parameters()), lr=1e-4)\n",
    "\n",
    "# model"
   ]
  },
  {
   "cell_type": "code",
   "execution_count": 5,
   "id": "74e3657f",
   "metadata": {},
   "outputs": [
    {
     "name": "stdout",
     "output_type": "stream",
     "text": [
      "Random Noise Input Shape: torch.Size([8, 3, 224, 224])\n",
      "Model Output Shape: torch.Size([8, 120])\n"
     ]
    }
   ],
   "source": [
    "random_noise = torch.randn(8, 3, 224, 224)\n",
    "\n",
    "random_noise = random_noise.to(device)\n",
    "\n",
    "# 前向传播测试\n",
    "with torch.no_grad():\n",
    "    output = model(random_noise)\n",
    "#     predicted_class = torch.argmax(output, dim=1).item()\n",
    "\n",
    "# 输出结果\n",
    "print(\"Random Noise Input Shape:\", random_noise.shape)\n",
    "print(\"Model Output Shape:\", output.shape)\n",
    "# print(\"Predicted Class:\", predicted_class)\n"
   ]
  },
  {
   "cell_type": "code",
   "execution_count": null,
   "id": "205b01cf",
   "metadata": {},
   "outputs": [],
   "source": []
  }
 ],
 "metadata": {
  "kernelspec": {
   "display_name": "DL1",
   "language": "python",
   "name": "dl1"
  },
  "language_info": {
   "codemirror_mode": {
    "name": "ipython",
    "version": 3
   },
   "file_extension": ".py",
   "mimetype": "text/x-python",
   "name": "python",
   "nbconvert_exporter": "python",
   "pygments_lexer": "ipython3",
   "version": "3.9.18"
  },
  "toc": {
   "base_numbering": 1,
   "nav_menu": {},
   "number_sections": true,
   "sideBar": true,
   "skip_h1_title": false,
   "title_cell": "Table of Contents",
   "title_sidebar": "Contents",
   "toc_cell": false,
   "toc_position": {},
   "toc_section_display": true,
   "toc_window_display": false
  }
 },
 "nbformat": 4,
 "nbformat_minor": 5
}
